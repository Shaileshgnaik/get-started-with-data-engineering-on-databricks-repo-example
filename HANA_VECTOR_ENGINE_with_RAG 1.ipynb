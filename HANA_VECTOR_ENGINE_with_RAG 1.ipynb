{
 "cells": [
  {
   "cell_type": "markdown",
   "id": "8a11f092",
   "metadata": {},
   "source": [
    "We first update the environment variables with AI Core keys Copy the keys from this link - https://sap.sharepoint.com/:f:/r/teams/AIDeveloperFoundationProgram/Shared%20Documents/India%20-%20April%202024%20Cohort%201/Keys/IES_GEN_AI_XL-Keys?csf=1&web=1&e=zq9rHP\n",
    "\n",
    "HANA VECTOR USER, PASS & HOST information, you can find from the week-3 readme file\n",
    "https://github.tools.sap/AILearning/AIDeveloperFoundationProgram/blob/main/week-3/README.md\n",
    "\n",
    "\"HANA_VECTOR_USER\" - Administrator User (DBADMIN)\n",
    "\n",
    "\"HANA_VECTOR_PASS\" - Administrator Password provided during setup\n",
    "\n",
    "\"HANA_HOST_VECTOR\" - SQL Endpoint (remove :443 while copying from endpoint url)"
   ]
  },
  {
   "cell_type": "code",
   "execution_count": 13,
   "id": "82af3a33",
   "metadata": {},
   "outputs": [],
   "source": [
    "import os \n",
    "\n",
    "# Define Keys HERE\n",
    "env_vars = {   \n",
    "  \"HANA_VECTOR_USER\": \"DBADMIN\",\n",
    "  \"HANA_VECTOR_PASS\": \"Welcome2!\",\n",
    "  \"HANA_HOST_VECTOR\": \"04a2209c-bf66-479a-bab5-2ebe5231747b.hana.trial-us10.hanacloud.ondemand.com\",\n",
    " \"AICORE_AUTH_URL\": \"https://sli-md-office-fyhziaa8.authentication.eu12.hana.ondemand.com/oauth/token\",\n",
    " \"AICORE_CLIENT_ID\": \"sb-64e38075-b7db-450d-9dd4-9930770a426d!b374611|xsuaa_std!b318061\",\n",
    " \"AICORE_CLIENT_SECRET\": \"373d7026-c9ed-4515-ab94-c4052bee17d0$_SpyGk4MTrxQ7TmGTxRkyX94deNKx9wFcuK_HpmLIPI=\",\n",
    " \"AICORE_RESOURCE_GROUP\": \"default\",\n",
    " \"AICORE_BASE_URL\":    \"https://api.ai.intprod-eu12.eu-central-1.aws.ml.hana.ondemand.com/v2\"\n",
    "}\n",
    "\n",
    "os.environ.update(env_vars)"
   ]
  },
  {
   "cell_type": "code",
   "execution_count": null,
   "id": "a0d3f3de",
   "metadata": {},
   "outputs": [],
   "source": [
    "DBADMIN\",\n",
    "  \"HANA_VECTOR_PASS\": \"Welcome2!\",\n",
    "  \"HANA_HOST_VECTOR\": \"04a2209c-bf66-479a-bab5-2ebe5231747b.hana.trial-us10.hanacloud.ondemand.com"
   ]
  },
  {
   "cell_type": "code",
   "execution_count": 2,
   "id": "7f78b15a",
   "metadata": {},
   "outputs": [
    {
     "name": "stdout",
     "output_type": "stream",
     "text": [
      "Requirement already satisfied: hdbcli in /Library/Frameworks/Python.framework/Versions/3.11/lib/python3.11/site-packages (2.20.15)\n"
     ]
    }
   ],
   "source": [
    "!pip install hdbcli"
   ]
  },
  {
   "cell_type": "code",
   "execution_count": 3,
   "id": "a013432f",
   "metadata": {},
   "outputs": [
    {
     "name": "stdout",
     "output_type": "stream",
     "text": [
      "Requirement already satisfied: hana_ml in /Library/Frameworks/Python.framework/Versions/3.11/lib/python3.11/site-packages (2.20.24042601)\n",
      "Requirement already satisfied: hdbcli>=2.18.22 in /Library/Frameworks/Python.framework/Versions/3.11/lib/python3.11/site-packages (from hana_ml) (2.20.15)\n",
      "Requirement already satisfied: pydotplus in /Library/Frameworks/Python.framework/Versions/3.11/lib/python3.11/site-packages (from hana_ml) (2.0.2)\n",
      "Requirement already satisfied: Deprecated in /Library/Frameworks/Python.framework/Versions/3.11/lib/python3.11/site-packages (from hana_ml) (1.2.14)\n",
      "Requirement already satisfied: htmlmin>=0.1.12 in /Library/Frameworks/Python.framework/Versions/3.11/lib/python3.11/site-packages (from hana_ml) (0.1.12)\n",
      "Requirement already satisfied: tqdm>=4.43.0 in /Library/Frameworks/Python.framework/Versions/3.11/lib/python3.11/site-packages (from hana_ml) (4.66.2)\n",
      "Requirement already satisfied: schedule in /Library/Frameworks/Python.framework/Versions/3.11/lib/python3.11/site-packages (from hana_ml) (1.2.1)\n",
      "Requirement already satisfied: prettytable in /Library/Frameworks/Python.framework/Versions/3.11/lib/python3.11/site-packages (from hana_ml) (3.10.0)\n",
      "Requirement already satisfied: shapely>=1.8.1 in /Library/Frameworks/Python.framework/Versions/3.11/lib/python3.11/site-packages (from hana_ml) (2.0.4)\n",
      "Requirement already satisfied: plotly>=4.14.3 in /Library/Frameworks/Python.framework/Versions/3.11/lib/python3.11/site-packages (from hana_ml) (5.22.0)\n",
      "Requirement already satisfied: numpy>=1.16.4 in /Library/Frameworks/Python.framework/Versions/3.11/lib/python3.11/site-packages (from hana_ml) (1.26.4)\n",
      "Requirement already satisfied: pandas>=0.24.2 in /Library/Frameworks/Python.framework/Versions/3.11/lib/python3.11/site-packages (from hana_ml) (2.2.2)\n",
      "Requirement already satisfied: jinja2>=3.0.0 in /Library/Frameworks/Python.framework/Versions/3.11/lib/python3.11/site-packages (from hana_ml) (3.1.3)\n",
      "Requirement already satisfied: MarkupSafe>=2.0 in /Library/Frameworks/Python.framework/Versions/3.11/lib/python3.11/site-packages (from jinja2>=3.0.0->hana_ml) (2.1.5)\n",
      "Requirement already satisfied: python-dateutil>=2.8.2 in /Library/Frameworks/Python.framework/Versions/3.11/lib/python3.11/site-packages (from pandas>=0.24.2->hana_ml) (2.9.0.post0)\n",
      "Requirement already satisfied: pytz>=2020.1 in /Library/Frameworks/Python.framework/Versions/3.11/lib/python3.11/site-packages (from pandas>=0.24.2->hana_ml) (2024.1)\n",
      "Requirement already satisfied: tzdata>=2022.7 in /Library/Frameworks/Python.framework/Versions/3.11/lib/python3.11/site-packages (from pandas>=0.24.2->hana_ml) (2024.1)\n",
      "Requirement already satisfied: tenacity>=6.2.0 in /Library/Frameworks/Python.framework/Versions/3.11/lib/python3.11/site-packages (from plotly>=4.14.3->hana_ml) (8.2.3)\n",
      "Requirement already satisfied: packaging in /Users/I077648/Library/Python/3.11/lib/python/site-packages (from plotly>=4.14.3->hana_ml) (23.2)\n",
      "Requirement already satisfied: wrapt<2,>=1.10 in /Library/Frameworks/Python.framework/Versions/3.11/lib/python3.11/site-packages (from Deprecated->hana_ml) (1.16.0)\n",
      "Requirement already satisfied: wcwidth in /Library/Frameworks/Python.framework/Versions/3.11/lib/python3.11/site-packages (from prettytable->hana_ml) (0.2.13)\n",
      "Requirement already satisfied: pyparsing>=2.0.1 in /Library/Frameworks/Python.framework/Versions/3.11/lib/python3.11/site-packages (from pydotplus->hana_ml) (3.1.2)\n",
      "Requirement already satisfied: six>=1.5 in /Library/Frameworks/Python.framework/Versions/3.11/lib/python3.11/site-packages (from python-dateutil>=2.8.2->pandas>=0.24.2->hana_ml) (1.16.0)\n",
      "Note: you may need to restart the kernel to use updated packages.\n"
     ]
    }
   ],
   "source": [
    "%pip install hana_ml"
   ]
  },
  {
   "cell_type": "markdown",
   "id": "05cd2f92",
   "metadata": {},
   "source": [
    "use pip install hdbcli & pip install hana_ml to import these libraries (or pip3 install..)"
   ]
  },
  {
   "cell_type": "code",
   "execution_count": 4,
   "id": "3766c119",
   "metadata": {},
   "outputs": [],
   "source": [
    "# Import dbapi from hdbcli library\n",
    "from hdbcli import dbapi\n",
    "import hana_ml.dataframe as dataframe"
   ]
  },
  {
   "cell_type": "markdown",
   "id": "b7fd2437",
   "metadata": {},
   "source": [
    "The below code retrieves the values of HANA user, Password & Host from environment variables. You can directly pass the same as well instead of first adding to the environment variable"
   ]
  },
  {
   "cell_type": "code",
   "execution_count": 5,
   "id": "cfa71ec5",
   "metadata": {},
   "outputs": [],
   "source": [
    "# Get the HANA Cloud username from environment variables\n",
    "HANA_USER_VDB = os.getenv('HANA_VECTOR_USER')\n",
    "# Get the HANA Cloud password from environment variables\n",
    "HANA_PASSWORD_VDB = os.getenv('HANA_VECTOR_PASS')\n",
    "# Get the HANA Cloud host from environment variables\n",
    "HANA_HOST  = os.getenv('HANA_HOST_VECTOR')"
   ]
  },
  {
   "cell_type": "markdown",
   "id": "4c03f7be",
   "metadata": {},
   "source": [
    "Establish the connection to HANA DB"
   ]
  },
  {
   "cell_type": "code",
   "execution_count": 12,
   "id": "1e2a01d2",
   "metadata": {},
   "outputs": [
    {
     "ename": "Error",
     "evalue": "(-10709, 'Connection failed (RTE:[89009] Socket connect timeout (20000 ms); $host$= (192.168.1.101:57501 -> d7a4556b-17e2-4ab0-b2bd-9bde685822a7.hana.prod-eu12.hanacloud.ondemand.com:30015))')",
     "output_type": "error",
     "traceback": [
      "\u001b[0;31m---------------------------------------------------------------------------\u001b[0m",
      "\u001b[0;31mError\u001b[0m                                     Traceback (most recent call last)",
      "Cell \u001b[0;32mIn[12], line 2\u001b[0m\n\u001b[1;32m      1\u001b[0m \u001b[38;5;66;03m# Use connection settings from the environment\u001b[39;00m\n\u001b[0;32m----> 2\u001b[0m connection \u001b[38;5;241m=\u001b[39m \u001b[43mdbapi\u001b[49m\u001b[38;5;241;43m.\u001b[39;49m\u001b[43mconnect\u001b[49m\u001b[43m(\u001b[49m\n\u001b[1;32m      3\u001b[0m \u001b[43m    \u001b[49m\u001b[43maddress\u001b[49m\u001b[38;5;241;43m=\u001b[39;49m\u001b[43mHANA_HOST\u001b[49m\u001b[43m,\u001b[49m\n\u001b[1;32m      4\u001b[0m \u001b[43m    \u001b[49m\u001b[43mport\u001b[49m\u001b[38;5;241;43m=\u001b[39;49m\u001b[38;5;241;43m30015\u001b[39;49m\u001b[43m,\u001b[49m\n\u001b[1;32m      5\u001b[0m \u001b[43m    \u001b[49m\u001b[43muser\u001b[49m\u001b[38;5;241;43m=\u001b[39;49m\u001b[43mHANA_USER_VDB\u001b[49m\u001b[43m,\u001b[49m\n\u001b[1;32m      6\u001b[0m \u001b[43m    \u001b[49m\u001b[43mpassword\u001b[49m\u001b[38;5;241;43m=\u001b[39;49m\u001b[43mHANA_PASSWORD_VDB\u001b[49m\u001b[43m,\u001b[49m\n\u001b[1;32m      7\u001b[0m \u001b[43m    \u001b[49m\u001b[43mencrypt\u001b[49m\u001b[38;5;241;43m=\u001b[39;49m\u001b[38;5;124;43m'\u001b[39;49m\u001b[38;5;124;43mtrue\u001b[39;49m\u001b[38;5;124;43m'\u001b[39;49m\u001b[43m,\u001b[49m\n\u001b[1;32m      8\u001b[0m \u001b[43m    \u001b[49m\u001b[43mautocommit\u001b[49m\u001b[38;5;241;43m=\u001b[39;49m\u001b[38;5;28;43;01mTrue\u001b[39;49;00m\n\u001b[1;32m      9\u001b[0m \u001b[43m)\u001b[49m\n",
      "\u001b[0;31mError\u001b[0m: (-10709, 'Connection failed (RTE:[89009] Socket connect timeout (20000 ms); $host$= (192.168.1.101:57501 -> d7a4556b-17e2-4ab0-b2bd-9bde685822a7.hana.prod-eu12.hanacloud.ondemand.com:30015))')"
     ]
    }
   ],
   "source": [
    "# Use connection settings from the environment\n",
    "connection = dbapi.connect(\n",
    "    address=HANA_HOST,\n",
    "    port=30015,\n",
    "    user=HANA_USER_VDB,\n",
    "    password=HANA_PASSWORD_VDB,\n",
    "    encrypt='true',\n",
    "    autocommit=True\n",
    ")"
   ]
  },
  {
   "cell_type": "markdown",
   "id": "6eb688e7",
   "metadata": {},
   "source": [
    "Connection Context in this notebook is used to validate the hana version"
   ]
  },
  {
   "cell_type": "code",
   "execution_count": null,
   "id": "c38a1117",
   "metadata": {},
   "outputs": [
    {
     "ename": "Error",
     "evalue": "(-10709, 'Connection failed (RTE:[89013] Socket closed by peer {192.168.1.101:54274 -> 35.156.35.115:443} (192.168.1.101:54274 -> d7a4556b-17e2-4ab0-b2bd-9bde685822a7.hana.prod-eu12.hanacloud.ondemand.com:443))')",
     "output_type": "error",
     "traceback": [
      "\u001b[0;31m---------------------------------------------------------------------------\u001b[0m",
      "\u001b[0;31mError\u001b[0m                                     Traceback (most recent call last)",
      "Cell \u001b[0;32mIn[14], line 1\u001b[0m\n\u001b[0;32m----> 1\u001b[0m conn \u001b[38;5;241m=\u001b[39m \u001b[43mdataframe\u001b[49m\u001b[38;5;241;43m.\u001b[39;49m\u001b[43mConnectionContext\u001b[49m\u001b[43m(\u001b[49m\n\u001b[1;32m      2\u001b[0m \u001b[43m    \u001b[49m\u001b[43maddress\u001b[49m\u001b[38;5;241;43m=\u001b[39;49m\u001b[43mHANA_HOST\u001b[49m\u001b[43m,\u001b[49m\u001b[43m  \u001b[49m\n\u001b[1;32m      3\u001b[0m \u001b[43m    \u001b[49m\u001b[43mport\u001b[49m\u001b[38;5;241;43m=\u001b[39;49m\u001b[38;5;241;43m443\u001b[39;49m\u001b[43m,\u001b[49m\n\u001b[1;32m      4\u001b[0m \u001b[43m    \u001b[49m\u001b[43muser\u001b[49m\u001b[38;5;241;43m=\u001b[39;49m\u001b[43mHANA_USER_VDB\u001b[49m\u001b[43m,\u001b[49m\n\u001b[1;32m      5\u001b[0m \u001b[43m    \u001b[49m\u001b[43mpassword\u001b[49m\u001b[38;5;241;43m=\u001b[39;49m\u001b[43mHANA_PASSWORD_VDB\u001b[49m\u001b[43m,\u001b[49m\n\u001b[1;32m      6\u001b[0m \u001b[43m    \u001b[49m\u001b[43mencrypt\u001b[49m\u001b[38;5;241;43m=\u001b[39;49m\u001b[38;5;124;43m'\u001b[39;49m\u001b[38;5;124;43mtrue\u001b[39;49m\u001b[38;5;124;43m'\u001b[39;49m\u001b[43m,\u001b[49m\n\u001b[1;32m      7\u001b[0m \u001b[43m    \u001b[49m\u001b[43mautocommit\u001b[49m\u001b[38;5;241;43m=\u001b[39;49m\u001b[38;5;28;43;01mTrue\u001b[39;49;00m\n\u001b[1;32m      8\u001b[0m \u001b[43m)\u001b[49m\n",
      "File \u001b[0;32m/Library/Frameworks/Python.framework/Versions/3.11/lib/python3.11/site-packages/hana_ml/dataframe.py:247\u001b[0m, in \u001b[0;36mConnectionContext.__init__\u001b[0;34m(self, address, port, user, password, autocommit, packetsize, userkey, spatialtypes, encrypt, sslValidateCertificate, pyodbc_connection, abap_sql, sslKeyStore, **properties)\u001b[0m\n\u001b[1;32m    245\u001b[0m     \u001b[38;5;28mself\u001b[39m\u001b[38;5;241m.\u001b[39mconnection \u001b[38;5;241m=\u001b[39m pyodbc\u001b[38;5;241m.\u001b[39mconnect(pyodbc_connection)\n\u001b[1;32m    246\u001b[0m \u001b[38;5;28;01melse\u001b[39;00m:\n\u001b[0;32m--> 247\u001b[0m     \u001b[38;5;28mself\u001b[39m\u001b[38;5;241m.\u001b[39mconnection \u001b[38;5;241m=\u001b[39m \u001b[43mdbapi\u001b[49m\u001b[38;5;241;43m.\u001b[39;49m\u001b[43mconnect\u001b[49m\u001b[43m(\u001b[49m\n\u001b[1;32m    248\u001b[0m \u001b[43m        \u001b[49m\u001b[43maddress\u001b[49m\u001b[43m,\u001b[49m\n\u001b[1;32m    249\u001b[0m \u001b[43m        \u001b[49m\u001b[43mport\u001b[49m\u001b[43m,\u001b[49m\n\u001b[1;32m    250\u001b[0m \u001b[43m        \u001b[49m\u001b[43muser\u001b[49m\u001b[43m,\u001b[49m\n\u001b[1;32m    251\u001b[0m \u001b[43m        \u001b[49m\u001b[43mpassword\u001b[49m\u001b[43m,\u001b[49m\n\u001b[1;32m    252\u001b[0m \u001b[43m        \u001b[49m\u001b[43mautocommit\u001b[49m\u001b[38;5;241;43m=\u001b[39;49m\u001b[43mautocommit\u001b[49m\u001b[43m,\u001b[49m\n\u001b[1;32m    253\u001b[0m \u001b[43m        \u001b[49m\u001b[43mpacketsize\u001b[49m\u001b[38;5;241;43m=\u001b[39;49m\u001b[43mpacketsize\u001b[49m\u001b[43m,\u001b[49m\n\u001b[1;32m    254\u001b[0m \u001b[43m        \u001b[49m\u001b[43muserkey\u001b[49m\u001b[38;5;241;43m=\u001b[39;49m\u001b[43muserkey\u001b[49m\u001b[43m,\u001b[49m\n\u001b[1;32m    255\u001b[0m \u001b[43m        \u001b[49m\u001b[43mspatialtypes\u001b[49m\u001b[38;5;241;43m=\u001b[39;49m\u001b[43mspatialtypes\u001b[49m\u001b[43m,\u001b[49m\n\u001b[1;32m    256\u001b[0m \u001b[43m        \u001b[49m\u001b[43mencrypt\u001b[49m\u001b[38;5;241;43m=\u001b[39;49m\u001b[43mencrypt\u001b[49m\u001b[43m,\u001b[49m\n\u001b[1;32m    257\u001b[0m \u001b[43m        \u001b[49m\u001b[43msslValidateCertificate\u001b[49m\u001b[38;5;241;43m=\u001b[39;49m\u001b[43msslValidateCertificate\u001b[49m\u001b[43m,\u001b[49m\n\u001b[1;32m    258\u001b[0m \u001b[43m        \u001b[49m\u001b[43msslKeyStore\u001b[49m\u001b[38;5;241;43m=\u001b[39;49m\u001b[43msslKeyStore\u001b[49m\u001b[43m,\u001b[49m\n\u001b[1;32m    259\u001b[0m \u001b[43m        \u001b[49m\u001b[38;5;241;43m*\u001b[39;49m\u001b[38;5;241;43m*\u001b[39;49m\u001b[43mproperties\u001b[49m\u001b[43m)\u001b[49m\n\u001b[1;32m    260\u001b[0m \u001b[38;5;28mself\u001b[39m\u001b[38;5;241m.\u001b[39m_pal_check_passed \u001b[38;5;241m=\u001b[39m \u001b[38;5;28;01mFalse\u001b[39;00m\n\u001b[1;32m    261\u001b[0m \u001b[38;5;28mself\u001b[39m\u001b[38;5;241m.\u001b[39msql_tracer \u001b[38;5;241m=\u001b[39m SqlTrace() \u001b[38;5;66;03m# SQLTRACE\u001b[39;00m\n",
      "\u001b[0;31mError\u001b[0m: (-10709, 'Connection failed (RTE:[89013] Socket closed by peer {192.168.1.101:54274 -> 35.156.35.115:443} (192.168.1.101:54274 -> d7a4556b-17e2-4ab0-b2bd-9bde685822a7.hana.prod-eu12.hanacloud.ondemand.com:443))')"
     ]
    }
   ],
   "source": [
    "\n",
    "conn = dataframe.ConnectionContext(\n",
    "    address=HANA_HOST,  \n",
    "    port=443,\n",
    "    user=HANA_USER_VDB,\n",
    "    password=HANA_PASSWORD_VDB,\n",
    "    encrypt='true',\n",
    "    autocommit=True\n",
    ")"
   ]
  },
  {
   "cell_type": "markdown",
   "id": "5483b746",
   "metadata": {},
   "source": [
    "If the HANA version is <4, then upgrade of the instance in your BTP account is required"
   ]
  },
  {
   "cell_type": "code",
   "execution_count": 15,
   "id": "8cb0df51",
   "metadata": {},
   "outputs": [
    {
     "ename": "NameError",
     "evalue": "name 'conn' is not defined",
     "output_type": "error",
     "traceback": [
      "\u001b[0;31m---------------------------------------------------------------------------\u001b[0m",
      "\u001b[0;31mNameError\u001b[0m                                 Traceback (most recent call last)",
      "Cell \u001b[0;32mIn[15], line 1\u001b[0m\n\u001b[0;32m----> 1\u001b[0m \u001b[43mconn\u001b[49m\u001b[38;5;241m.\u001b[39mhana_version()\n",
      "\u001b[0;31mNameError\u001b[0m: name 'conn' is not defined"
     ]
    }
   ],
   "source": [
    "conn.hana_version()"
   ]
  },
  {
   "cell_type": "markdown",
   "id": "5cfaf677",
   "metadata": {},
   "source": [
    "Import necessary langchain modules along with assignment of the proxy client as gen-ai-hub & chat_llm model initiation as gpt-35-turbo, which can be changed based on model availability in GENAI Hub"
   ]
  },
  {
   "cell_type": "code",
   "execution_count": null,
   "id": "e77512ee",
   "metadata": {},
   "outputs": [],
   "source": [
    "from langchain.prompts.chat import (\n",
    "        AIMessagePromptTemplate,\n",
    "        ChatPromptTemplate,\n",
    "        HumanMessagePromptTemplate,\n",
    "        SystemMessagePromptTemplate,\n",
    "    )\n",
    "\n",
    "from gen_ai_hub.proxy.langchain.openai import ChatOpenAI\n",
    "from gen_ai_hub.proxy.core.proxy_clients import get_proxy_client\n",
    "\n",
    "proxy_client = get_proxy_client('gen-ai-hub')\n",
    "chat_llm = ChatOpenAI(proxy_model_name='gpt-35-turbo', proxy_client=proxy_client, temperature=0.0)"
   ]
  },
  {
   "cell_type": "markdown",
   "id": "5b0bf039",
   "metadata": {},
   "source": [
    "This code performs the document split (loaded using PyPDF Loader available with Langchain) in chunks of size 1000 & chunk overlap 50. If you wish to use a text file, you can use TextLoader added as import below (for other file types supported, refer - https://python.langchain.com/docs/modules/data_connection/document_loaders/)\n",
    "\n",
    "split of the text is done and embedding model is initiated using text-embedding-ada-002\n"
   ]
  },
  {
   "cell_type": "code",
   "execution_count": null,
   "id": "bf1d0b45",
   "metadata": {},
   "outputs": [],
   "source": [
    "from gen_ai_hub.proxy.langchain.openai import OpenAIEmbeddings\n",
    "from gen_ai_hub.proxy.core.proxy_clients import get_proxy_client\n",
    "from langchain.chains import RetrievalQA\n",
    "from langchain.text_splitter import CharacterTextSplitter\n",
    "from langchain.document_loaders import TextLoader\n",
    "from langchain.document_loaders import PyPDFLoader\n",
    "from langchain_community.vectorstores.hanavector import HanaDB\n",
    "\n",
    "text_splitter = CharacterTextSplitter(chunk_size=1000, chunk_overlap=50)\n",
    "loader = PyPDFLoader('./flexben_2023.pdf')\n",
    "pages = loader.load_and_split(text_splitter)\n",
    "documents = loader.load()\n",
    "\n",
    "texts = text_splitter.split_documents(documents)\n",
    "\n",
    "embedding_model = OpenAIEmbeddings(proxy_model_name='text-embedding-ada-002')"
   ]
  },
  {
   "cell_type": "markdown",
   "id": "b002933a",
   "metadata": {},
   "source": [
    "Initiate the vector db adding the embedding model, connection & provide the table name. If the table doesn't exist, a table will be created automatically\n",
    "if you wish to remove the previous vector entries (important when u re-run this code), use db.delete & then add the embeddings using db.add_documents"
   ]
  },
  {
   "cell_type": "code",
   "execution_count": null,
   "id": "e0289b1b",
   "metadata": {},
   "outputs": [],
   "source": [
    "db = HanaDB(\n",
    "    embedding=embedding_model, connection=connection, table_name=\"FLEXBEN_POLICY\"\n",
    ")\n",
    "\n",
    "# Delete already existing documents from the table\n",
    "db.delete(filter={})\n",
    "\n",
    "# add the loaded document chunks\n",
    "db.add_documents(texts)"
   ]
  },
  {
   "cell_type": "markdown",
   "id": "7a0df958",
   "metadata": {},
   "source": [
    "This code is used to retrieve the embeddings data from HANA DB"
   ]
  },
  {
   "cell_type": "code",
   "execution_count": null,
   "id": "49ad320c",
   "metadata": {},
   "outputs": [],
   "source": [
    "# take a look at the table\n",
    "hdf = conn.sql(''' SELECT \"VEC_TEXT\", \"VEC_META\", TO_NVARCHAR(\"VEC_VECTOR\") AS \"VEC_VECTOR\" FROM \"FLEXBEN_POLICY\" ''')\n",
    "df = hdf.head(5).collect()\n",
    "df"
   ]
  },
  {
   "cell_type": "markdown",
   "id": "b9261bbc",
   "metadata": {},
   "source": [
    "Based on the query, you can now perform similarity search & you can filter with top k most similar chunks"
   ]
  },
  {
   "cell_type": "code",
   "execution_count": null,
   "id": "2dd6f1de",
   "metadata": {},
   "outputs": [],
   "source": [
    "query = \"What is Flexben?\"\n",
    "docs = db.similarity_search(query, k=2)\n",
    "\n",
    "for doc in docs:\n",
    "    print(\"-\" * 80)\n",
    "    print(doc.page_content)"
   ]
  },
  {
   "cell_type": "markdown",
   "id": "3aca09c3",
   "metadata": {},
   "source": [
    "Initiate the retriever from db & also retrieval QA with model & retriever"
   ]
  },
  {
   "cell_type": "code",
   "execution_count": null,
   "id": "d2e1ebe3",
   "metadata": {},
   "outputs": [],
   "source": [
    "retriever = db.as_retriever()\n",
    "\n",
    "qa = RetrievalQA.from_llm(\n",
    "    llm=chat_llm, retriever=retriever)  # pass the BTP OpenAI model"
   ]
  },
  {
   "cell_type": "markdown",
   "id": "0f966f04",
   "metadata": {},
   "source": [
    "Now you can ask any queries and using qa.invoke, the response will be given as output"
   ]
  },
  {
   "cell_type": "code",
   "execution_count": null,
   "id": "113a85ca",
   "metadata": {},
   "outputs": [],
   "source": [
    "query = \"What is flexben?\"\n",
    "result = qa.invoke(query)"
   ]
  },
  {
   "cell_type": "code",
   "execution_count": null,
   "id": "05154531",
   "metadata": {},
   "outputs": [],
   "source": [
    "result"
   ]
  },
  {
   "cell_type": "code",
   "execution_count": null,
   "id": "b02aecf4",
   "metadata": {},
   "outputs": [],
   "source": [
    "query = \"How many flexben points do i get?\"\n",
    "result = qa.invoke(query)"
   ]
  },
  {
   "cell_type": "code",
   "execution_count": null,
   "id": "4cb547b0",
   "metadata": {},
   "outputs": [],
   "source": [
    "result"
   ]
  },
  {
   "cell_type": "markdown",
   "id": "bd964289",
   "metadata": {},
   "source": [
    "## Additional Exploration - LLM Chain"
   ]
  },
  {
   "cell_type": "code",
   "execution_count": null,
   "id": "e64a7d5c",
   "metadata": {},
   "outputs": [],
   "source": [
    "from langchain.prompts import PromptTemplate\n",
    "\n",
    "prompt_template = \"\"\"\n",
    "You are an expert in SAP Technologies. You are provided multiple context items that are related to the prompt you have to answer.\n",
    "Use the following pieces of context to answer the question at the end.\n",
    "\n",
    "```\n",
    "{context}\n",
    "```\n",
    "\n",
    "Question: {question}\n",
    "\"\"\"\n",
    "\n",
    "PROMPT = PromptTemplate(\n",
    "    template=prompt_template, input_variables=[\"context\", \"question\"]\n",
    ")\n",
    "chain_type_kwargs = {\"prompt\": PROMPT}"
   ]
  },
  {
   "cell_type": "code",
   "execution_count": null,
   "id": "a3bff726",
   "metadata": {},
   "outputs": [],
   "source": [
    "from langchain.chains import ConversationalRetrievalChain\n",
    "from langchain.memory import ConversationBufferMemory\n",
    "\n",
    "\n",
    "llm = chat_llm\n",
    "memory = ConversationBufferMemory(\n",
    "    memory_key=\"chat_history\", output_key=\"answer\", return_messages=True\n",
    ")\n",
    "qa_chain = ConversationalRetrievalChain.from_llm(\n",
    "    llm,\n",
    "    db.as_retriever(search_kwargs={\"k\": 5}),\n",
    "    return_source_documents=True,\n",
    "    memory=memory,\n",
    "    verbose=True,\n",
    "    combine_docs_chain_kwargs={\"prompt\": PROMPT},\n",
    ")"
   ]
  },
  {
   "cell_type": "code",
   "execution_count": null,
   "id": "8b81a6f9",
   "metadata": {},
   "outputs": [],
   "source": [
    "question = \"What is flexben?\"\n",
    "\n",
    "result = qa_chain.invoke({\"question\": question})\n",
    "print(\"Answer from LLM:\")\n",
    "print(\"================\")\n",
    "print(result[\"answer\"])\n",
    "\n",
    "source_docs = result[\"source_documents\"]\n",
    "print(\"================\")\n",
    "print(f\"Number of used source document chunks: {len(source_docs)}\")"
   ]
  },
  {
   "cell_type": "code",
   "execution_count": null,
   "id": "e8faf36c",
   "metadata": {},
   "outputs": [],
   "source": [
    "for doc in result[\"source_documents\"]:\n",
    "    print(\"-\" * 80)\n",
    "    print(doc.page_content)\n",
    "    print(doc.metadata)"
   ]
  },
  {
   "cell_type": "markdown",
   "id": "0b61c4b6",
   "metadata": {},
   "source": [
    "## Reference:\n",
    "\n",
    "https://python.langchain.com/docs/integrations/vectorstores/sap_hanavector/\n",
    "\n",
    "https://github.tools.sap/Artificial-Intelligence-CoE/ies-genai-platform-models-cookbook/tree/main/examples/python/SAP-HANA-Cloud-VectorEngine-PoC\n",
    "\n",
    "https://github.wdf.sap.corp/hana-multi-model/vector-getting-started\n",
    "\n",
    "https://discovery-center.cloud.sap/protected/index.html#/mymissiondetail/95888/card/10571818/?tab=projectboard"
   ]
  }
 ],
 "metadata": {
  "kernelspec": {
   "display_name": "Python 3 (ipykernel)",
   "language": "python",
   "name": "python3"
  },
  "language_info": {
   "codemirror_mode": {
    "name": "ipython",
    "version": 3
   },
   "file_extension": ".py",
   "mimetype": "text/x-python",
   "name": "python",
   "nbconvert_exporter": "python",
   "pygments_lexer": "ipython3",
   "version": "3.11.5"
  }
 },
 "nbformat": 4,
 "nbformat_minor": 5
}
